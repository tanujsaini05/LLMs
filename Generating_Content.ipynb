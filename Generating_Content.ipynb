{
 "cells": [
  {
   "cell_type": "code",
   "execution_count": 2,
   "metadata": {},
   "outputs": [],
   "source": [
    "import google.generativeai as genai\n",
    "from key import google_api_key\n",
    "import os\n",
    "\n",
    "os.environ[google_api_key]=google_api_key\n",
    "\n",
    "genai.configure(api_key=google_api_key)\n"
   ]
  },
  {
   "cell_type": "code",
   "execution_count": 5,
   "metadata": {},
   "outputs": [
    {
     "name": "stdout",
     "output_type": "stream",
     "text": [
      "The SBI Clerk exam covers a wide range of topics.  To prepare effectively, you should focus on these key areas and use appropriate study materials:\n",
      "\n",
      "**1. Reasoning Ability:**\n",
      "\n",
      "* **Topics:** Puzzles (circular arrangements, linear arrangements, seating arrangements, blood relations, etc.), Coding-Decoding, Inequalities, Syllogism, Direction Sense, Alphanumeric Series, Data Sufficiency.\n",
      "* **What to Read:**  R.S. Aggarwal's Verbal and Non-Verbal Reasoning, Arun Sharma's Reasoning,  practice materials from various online platforms like Oliveboard, Adda247, Gradeup. Focus on practicing a large variety of puzzle types.\n",
      "\n",
      "**2. Quantitative Aptitude:**\n",
      "\n",
      "* **Topics:** Simplification, Approximation, Number Series, Data Interpretation (tables, charts, graphs, pie charts, caselets), Percentage, Ratio & Proportion, Profit & Loss, Simple Interest & Compound Interest, Time & Work, Time & Distance, Mensuration, Average, etc.\n",
      "* **What to Read:** R.S. Aggarwal's Quantitative Aptitude, Arun Sharma's Quantitative Aptitude,  practice materials from online platforms.  Focus on understanding concepts and developing speed through consistent practice.  Data Interpretation is crucial, so dedicate significant time to it.\n",
      "\n",
      "**3. English Language:**\n",
      "\n",
      "* **Topics:** Reading Comprehension, Cloze Test, Error Spotting, Fill in the Blanks, Sentence Improvement, Para Jumbles, Vocabulary.\n",
      "* **What to Read:**  A good English grammar book (like Wren & Martin), Newspapers (The Hindu, The Indian Express – for vocabulary and reading comprehension),  online platforms offering English language practice.  Focus on improving your reading speed and comprehension skills.\n",
      "\n",
      "\n",
      "**4. General Awareness/Financial Awareness:**\n",
      "\n",
      "* **Topics:** Current Affairs (last 6 months are crucial), Banking Awareness, Static GK (Indian History, Geography, Economy, Polity, Science).\n",
      "* **What to Read:** Monthly current affairs magazines (Pratiyogita Darpan, Competition Success Review),  newspapers (The Hindu, The Indian Express),  banking awareness books, online resources focusing on banking and financial news.\n",
      "\n",
      "\n",
      "**Important Considerations:**\n",
      "\n",
      "* **Previous Year's Papers:** Solving previous years' question papers is essential to understand the exam pattern, difficulty level, and types of questions asked.\n",
      "* **Mock Tests:** Regularly taking mock tests is crucial to assess your preparation level, improve time management, and identify your weak areas.\n",
      "* **Online Resources:** Utilize online platforms like Oliveboard, Adda247, Gradeup for practice questions, mock tests, and study materials.\n",
      "* **Consistency:**  Consistent effort is key to success.  Create a study plan and stick to it.\n",
      "\n",
      "\n",
      "Remember that success in the SBI Clerk exam requires a combination of conceptual understanding, speed, accuracy, and consistent practice. Good luck!\n",
      "\n"
     ]
    }
   ],
   "source": [
    "model = genai.GenerativeModel('gemini-1.5-flash')\n",
    "response = model.generate_content(\"what to read in SBI clerk exam\")\n",
    "print(response.text)"
   ]
  },
  {
   "cell_type": "code",
   "execution_count": 8,
   "metadata": {},
   "outputs": [],
   "source": [
    "import textwrap\n",
    "from IPython.display import Markdown\n",
    "def to_markdown(text):\n",
    "  text=text.replace('•', '  *')\n",
    "  return Markdown(textwrap.indent(text,'>', predicate=lambda _:True))"
   ]
  },
  {
   "cell_type": "code",
   "execution_count": 9,
   "metadata": {},
   "outputs": [
    {
     "data": {
      "text/markdown": [
       ">The SBI Clerk exam covers a wide range of topics.  To prepare effectively, you should focus on these key areas and use appropriate study materials:\n",
       ">\n",
       ">**1. Reasoning Ability:**\n",
       ">\n",
       ">* **Topics:** Puzzles (circular arrangements, linear arrangements, seating arrangements, blood relations, etc.), Coding-Decoding, Inequalities, Syllogism, Direction Sense, Alphanumeric Series, Data Sufficiency.\n",
       ">* **What to Read:**  R.S. Aggarwal's Verbal and Non-Verbal Reasoning, Arun Sharma's Reasoning,  practice materials from various online platforms like Oliveboard, Adda247, Gradeup. Focus on practicing a large variety of puzzle types.\n",
       ">\n",
       ">**2. Quantitative Aptitude:**\n",
       ">\n",
       ">* **Topics:** Simplification, Approximation, Number Series, Data Interpretation (tables, charts, graphs, pie charts, caselets), Percentage, Ratio & Proportion, Profit & Loss, Simple Interest & Compound Interest, Time & Work, Time & Distance, Mensuration, Average, etc.\n",
       ">* **What to Read:** R.S. Aggarwal's Quantitative Aptitude, Arun Sharma's Quantitative Aptitude,  practice materials from online platforms.  Focus on understanding concepts and developing speed through consistent practice.  Data Interpretation is crucial, so dedicate significant time to it.\n",
       ">\n",
       ">**3. English Language:**\n",
       ">\n",
       ">* **Topics:** Reading Comprehension, Cloze Test, Error Spotting, Fill in the Blanks, Sentence Improvement, Para Jumbles, Vocabulary.\n",
       ">* **What to Read:**  A good English grammar book (like Wren & Martin), Newspapers (The Hindu, The Indian Express – for vocabulary and reading comprehension),  online platforms offering English language practice.  Focus on improving your reading speed and comprehension skills.\n",
       ">\n",
       ">\n",
       ">**4. General Awareness/Financial Awareness:**\n",
       ">\n",
       ">* **Topics:** Current Affairs (last 6 months are crucial), Banking Awareness, Static GK (Indian History, Geography, Economy, Polity, Science).\n",
       ">* **What to Read:** Monthly current affairs magazines (Pratiyogita Darpan, Competition Success Review),  newspapers (The Hindu, The Indian Express),  banking awareness books, online resources focusing on banking and financial news.\n",
       ">\n",
       ">\n",
       ">**Important Considerations:**\n",
       ">\n",
       ">* **Previous Year's Papers:** Solving previous years' question papers is essential to understand the exam pattern, difficulty level, and types of questions asked.\n",
       ">* **Mock Tests:** Regularly taking mock tests is crucial to assess your preparation level, improve time management, and identify your weak areas.\n",
       ">* **Online Resources:** Utilize online platforms like Oliveboard, Adda247, Gradeup for practice questions, mock tests, and study materials.\n",
       ">* **Consistency:**  Consistent effort is key to success.  Create a study plan and stick to it.\n",
       ">\n",
       ">\n",
       ">Remember that success in the SBI Clerk exam requires a combination of conceptual understanding, speed, accuracy, and consistent practice. Good luck!\n"
      ],
      "text/plain": [
       "<IPython.core.display.Markdown object>"
      ]
     },
     "execution_count": 9,
     "metadata": {},
     "output_type": "execute_result"
    }
   ],
   "source": [
    "to_markdown(response.text)"
   ]
  },
  {
   "cell_type": "code",
   "execution_count": 13,
   "metadata": {},
   "outputs": [
    {
     "data": {
      "text/markdown": [
       ">This is a poster advertising an AI/ML workshop.  Here's a breakdown of the image's content:\n",
       ">\n",
       ">* **Headline:**  AI/ML Workshop - Unlocking the Power of AI and Machine Learning: Learn, Build, and Innovate!\n",
       ">\n",
       ">* **Workshop Details:**\n",
       ">    * **Date:** 12th February, 2024\n",
       ">    * **Time:** 9:50 AM - 11:50 PM\n",
       ">    * **Location:** Engg. Block-1\n",
       ">    * **Technology:** TensorFlow\n",
       ">    * **Speaker:** Mr. Tanuj Saini\n",
       ">\n",
       ">* **Workshop Content:**  Attendees will learn basic knowledge of AI/ML, neural networks, steps to make a model, and more.\n",
       ">\n",
       ">* **Contact Information:** Contact details for Sushant and Vansh are provided for queries.\n",
       ">\n",
       ">* **Registration:** A QR code and a \"Register Now\" button are included for easy registration.\n",
       ">\n",
       ">* **Visuals:** The poster features a photo of the speaker, Mr. Tanuj Saini, and uses a visually appealing design with the TensorFlow logo, orange accents, and geometric shapes.  The background implies a technological or educational context.\n",
       ">\n",
       ">In short, the image is a well-designed promotional piece for a TensorFlow-based AI/ML workshop aimed at students or those interested in learning about AI and Machine Learning.\n"
      ],
      "text/plain": [
       "<IPython.core.display.Markdown object>"
      ]
     },
     "execution_count": 13,
     "metadata": {},
     "output_type": "execute_result"
    }
   ],
   "source": [
    "import PIL.Image\n",
    "\n",
    "organ = PIL.Image.open('C:/Users/tjwin/Downloads/ml.png')\n",
    "response = model.generate_content([\" tell me about the image.\",organ])\n",
    "to_markdown(response.text)"
   ]
  },
  {
   "cell_type": "code",
   "execution_count": 19,
   "metadata": {},
   "outputs": [
    {
     "name": "stdout",
     "output_type": "stream",
     "text": [
      "El->ara clutched the worn leather straps of her backpack, its faded crimson a stark contrast-> to the grey, dreary market square. It wasn't a particularly special backpack->, at least not on the surface.  It lacked the gleaming buckles and enchanted embroidery of the wizard's satchels she'd seen in the shop-> windows.  But Elara knew its secret.  This was no ordinary backpack.\n",
      "\n",
      "She'd found it abandoned in a dusty alleyway, a tiny->, silver key tucked into its side pocket.  That key, when inserted into a hidden lock near the zipper, unlocked its magic.  It wasn't a flashy magic; no bolts of lightning or shimmering spells.  Its magic was->…practical.\n",
      "\n",
      "Her first discovery had been astonishing: the backpack was infinitely spacious.  She'd crammed a week's worth of market goods into it, enough to feed a small village, and it barely felt heavier than a feather->.  But the real marvel was its ability to produce exactly what she needed, as long as she truly needed it.\n",
      "\n",
      "Today, she needed money.  Her family’s meager harvest had barely covered the winter’s necessities.  She murmured a silent request, “I need enough to buy food for my family->,” and reached into the backpack.  Her hand closed around a small, leather pouch.  Inside, nestled amongst the soft fabric, were precisely 12 silver coins – enough to buy bread, vegetables, and a small measure of honey.\n",
      "\n",
      "Later, as she walked home, a sudden downpour threatened to soak-> her meager purchases.  “I need a waterproof cover,” she whispered.  Instantly, a vibrant, crimson cloak materialized, seemingly woven from the backpack’s own fabric.  The cloak kept her dry, its colour echoing the backpack’s faded glory.\n",
      "\n",
      "News of Elara’s seemingly endless supply of-> goods spread like wildfire. Whispers called her a witch, a thief, a miracle worker.  But Elara simply used the magic responsibly, helping those in need.  She supplied a struggling baker with flour, mended a broken cart wheel for a weary farmer, and even provided a warm shawl for an old woman shivering-> in the cold.\n",
      "\n",
      "One day, a powerful mage, Lord Valerius, arrived, his eyes narrowed with suspicion. He'd heard the rumours of a magical artifact, and he wanted it for himself. He demanded Elara relinquish the backpack.\n",
      "\n",
      "Elara refused. She wouldn't let such a kind,-> helpful magic fall into the hands of someone who might misuse it.  She knew her backpack was more than a vessel for objects; it was a vessel for kindness.  And kindness, she knew, was far more powerful than any spell.\n",
      "\n",
      "The ensuing confrontation wasn't a battle of fire and fury, but a-> contest of wills.  Valerius, accustomed to wielding devastating magic, found himself strangely powerless against Elara's simple determination.  Her backpack, sensing her unwavering resolve, responded in kind.  It produced, not a weapon, but a single, perfect crimson rose, its petals vibrant with life and beauty.->  The rose's fragrance filled the air, disarming Valerius and causing him to reconsider his intentions.\n",
      "\n",
      "He left, humbled, leaving Elara and her magic backpack to continue their work of quiet, practical magic, changing lives one small act of kindness at a time.  The backpack's magic was understated->, but its effect was profound, a testament to the power of generosity and a reminder that even the smallest acts can make the biggest difference.\n",
      "->"
     ]
    }
   ],
   "source": [
    "response = model.generate_content(\"Write a story about magic backpack.\", stream=True)\n",
    "for chunks in response:\n",
    "    print(chunks.text,end=\"->\")\n",
    "# print(response.text)"
   ]
  },
  {
   "cell_type": "code",
   "execution_count": 20,
   "metadata": {},
   "outputs": [
    {
     "name": "stdout",
     "output_type": "stream",
     "text": [
      "That's lovely!  What breeds are they?  Do they get along well?  Tell me more about your furry friends!\n",
      "\n",
      "If you have two dogs, and each dog has four paws, there are 8 paws in your house.\n",
      "\n"
     ]
    }
   ],
   "source": [
    "chat = model.start_chat(\n",
    "    history=[\n",
    "        {\"role\": \"user\", \"parts\": \"Hello\"},\n",
    "        {\"role\": \"model\", \"parts\": \"Great to meet you. What would you like to know?\"},\n",
    "    ]\n",
    ")\n",
    "response = chat.send_message(\"I have 2 dogs in my house.\")\n",
    "print(response.text)\n",
    "response = chat.send_message(\"How many paws are in my house?\")\n",
    "print(response.text)\n"
   ]
  },
  {
   "cell_type": "code",
   "execution_count": null,
   "metadata": {},
   "outputs": [],
   "source": []
  }
 ],
 "metadata": {
  "kernelspec": {
   "display_name": "Python 3",
   "language": "python",
   "name": "python3"
  },
  "language_info": {
   "codemirror_mode": {
    "name": "ipython",
    "version": 3
   },
   "file_extension": ".py",
   "mimetype": "text/x-python",
   "name": "python",
   "nbconvert_exporter": "python",
   "pygments_lexer": "ipython3",
   "version": "3.12.1"
  }
 },
 "nbformat": 4,
 "nbformat_minor": 2
}
