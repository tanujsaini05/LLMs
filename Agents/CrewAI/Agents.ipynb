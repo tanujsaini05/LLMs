{
 "cells": [
  {
   "cell_type": "code",
   "execution_count": 1,
   "metadata": {},
   "outputs": [
    {
     "name": "stdout",
     "output_type": "stream",
     "text": [
      "Hello we are going to make some agents\n"
     ]
    }
   ],
   "source": [
    "print(\"Hello we are going to make some agents\")"
   ]
  },
  {
   "cell_type": "code",
   "execution_count": 9,
   "metadata": {},
   "outputs": [],
   "source": [
    "from keys import GOOGLE_API_KEY,SERPER_API_KEY\n",
    "from langchain_google_genai import ChatGoogleGenerativeAI\n",
    "from crewai import Agent,Task,Crew"
   ]
  },
  {
   "cell_type": "code",
   "execution_count": 10,
   "metadata": {},
   "outputs": [],
   "source": [
    "model = ChatGoogleGenerativeAI(\n",
    "    model=\"gemini-1.5-flash\",\n",
    "    verbose = True,\n",
    "    temperature=0.5,\n",
    "    google_api_key = GOOGLE_API_KEY\n",
    ")"
   ]
  },
  {
   "cell_type": "code",
   "execution_count": 11,
   "metadata": {},
   "outputs": [],
   "source": [
    "resume_checker = Agent(\n",
    "    role = \"Senior Hiring officer\",\n",
    "    goal = \"\"\"To check the {resume} of the candidate Suggest the changes  to make it more attractive according to the {designation}\"\"\",\n",
    "    backstory = (\"\"\"Candidate is looking for a good job and he/she want to be on a good pay scale.you will edit his/her resume  and make it attractive.\"\"\"),\n",
    "    allow_delegation = False,\n",
    "    verbose = True,\n",
    "    llm = model\n",
    ")"
   ]
  },
  {
   "cell_type": "code",
   "execution_count": 12,
   "metadata": {},
   "outputs": [],
   "source": [
    "writer_agent = Agent(\n",
    "    role = \"Expert of company Hiring \",\n",
    "    goal = \"\"\"Do the changes and highligt them in the {resume} of the candidate and do the changes He/She will hired in other companies\"\"\",\n",
    "    backstory = (\"\"\"He/She is in urgent need of job and want to be hired in a good company. \n",
    "                 so you need to edit it in a way so that he/she will be hired soon.\"\"\"),\n",
    "    allow_delegation = True,\n",
    "    verbose = True,\n",
    "    llm = model\n",
    ")"
   ]
  },
  {
   "cell_type": "code",
   "execution_count": null,
   "metadata": {},
   "outputs": [],
   "source": []
  },
  {
   "cell_type": "code",
   "execution_count": null,
   "metadata": {},
   "outputs": [],
   "source": []
  }
 ],
 "metadata": {
  "kernelspec": {
   "display_name": "Python 3",
   "language": "python",
   "name": "python3"
  },
  "language_info": {
   "codemirror_mode": {
    "name": "ipython",
    "version": 3
   },
   "file_extension": ".py",
   "mimetype": "text/x-python",
   "name": "python",
   "nbconvert_exporter": "python",
   "pygments_lexer": "ipython3",
   "version": "3.12.1"
  }
 },
 "nbformat": 4,
 "nbformat_minor": 2
}
